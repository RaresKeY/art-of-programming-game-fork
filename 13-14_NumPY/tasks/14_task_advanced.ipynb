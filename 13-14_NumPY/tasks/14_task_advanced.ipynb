{
 "cells": [
  {
   "cell_type": "markdown",
   "metadata": {},
   "source": [
    "# Sesiunea 14 – NumPy Avansat\n",
    "_Notebook de exerciții (fără soluții)._"
   ]
  },
  {
   "cell_type": "markdown",
   "metadata": {},
   "source": [
    "## Exercițiu 1 – Broadcasting cu bias\n",
    "Creează un array `img` 3x3 și un vector `bias`, apoi aplică biasul pe fiecare rând folosind broadcasting.\n",
    "\n",
    "Exemplu:\n",
    "```python\n",
    "img = np.array([[10,20,30],[40,50,60],[70,80,90]])\n",
    "bias = np.array([1, 0, -1])\n",
    "```\n",
    "Afișează rezultatul lui `img + bias`."
   ]
  },
  {
   "cell_type": "code",
   "execution_count": null,
   "metadata": {},
   "outputs": [],
   "source": []
  },
  {
   "cell_type": "markdown",
   "metadata": {},
   "source": [
    "## Exercițiu 2 – Indexare logică\n",
    "Creează un array 1D de valori numerice. Folosește o mască logică pentru a extrage doar elementele care respectă o anumită condiție (de exemplu, valori mai mari de 25)."
   ]
  },
  {
   "cell_type": "code",
   "execution_count": null,
   "metadata": {},
   "outputs": [],
   "source": []
  },
  {
   "cell_type": "markdown",
   "metadata": {},
   "source": [
    "## Exercițiu 3 – Funcții matematice și agregări\n",
    "Creează un vector `x` folosind `np.linspace(0, 10, 100)`. Calculează `sin(x)`, apoi media și deviația standard.\n",
    "\n",
    "În plus, aplică operații de agregare pe o matrice 2D folosind `axis=0` și `axis=1`."
   ]
  },
  {
   "cell_type": "code",
   "execution_count": null,
   "metadata": {},
   "outputs": [],
   "source": []
  },
  {
   "cell_type": "markdown",
   "metadata": {},
   "source": [
    "## Exercițiu 4 – Normalizare pe axă\n",
    "Normalizează o matrice 2x2 folosind formula:\n",
    "\n",
    "\\[ norm = (m - media) / std \\]\n",
    "\n",
    "unde media și deviația standard sunt calculate pe coloane (`axis=0`)."
   ]
  },
  {
   "cell_type": "code",
   "execution_count": null,
   "metadata": {},
   "outputs": [],
   "source": []
  },
  {
   "cell_type": "markdown",
   "metadata": {},
   "source": [
    "## Exercițiu 5 – Manipulare avansată de array-uri\n",
    "Creează un vector `v` cu 12 elemente, transformă-l într-o matrice 3x4. Aplică:\n",
    "- `np.hsplit()` pentru a-l împărți pe coloane\n",
    "- `np.vstack()` pentru a concatena două copii ale matricei pe verticală."
   ]
  },
  {
   "cell_type": "code",
   "execution_count": null,
   "metadata": {},
   "outputs": [],
   "source": []
  },
  {
   "cell_type": "markdown",
   "metadata": {},
   "source": [
    "## Exercițiu 6 – Vectorizare vs For-loop\n",
    "Generează un milion de numere și calculează pătratele lor:\n",
    "- o dată folosind un for-loop\n",
    "- o dată folosind operații vectorizate cu NumPy\n",
    "Compară timpul de execuție între cele două metode."
   ]
  },
  {
   "cell_type": "code",
   "execution_count": null,
   "metadata": {},
   "outputs": [],
   "source": []
  },
  {
   "cell_type": "markdown",
   "metadata": {},
   "source": [
    "## Exercițiu 7 – Distanță euclidiană vectorizată\n",
    "Calculează distanța euclidiană dintre doi vectori `p1` și `p2` fără a folosi bucle.\n",
    "\n",
    "\\[ dist = \\sqrt{\\sum (p1 - p2)^2} \\]"
   ]
  },
  {
   "cell_type": "code",
   "execution_count": null,
   "metadata": {},
   "outputs": [],
   "source": []
  },
  {
   "cell_type": "markdown",
   "metadata": {},
   "source": [
    "## Exercițiu 8 – Big Arrays și filtrare\n",
    "Generează un array de 10 milioane de numere întregi aleatoare între 1 și 20000.\n",
    "Selectează doar valorile mai mari de 10000 și calculează media acestora."
   ]
  },
  {
   "cell_type": "code",
   "execution_count": null,
   "metadata": {},
   "outputs": [],
   "source": []
  },
  {
   "cell_type": "markdown",
   "metadata": {},
   "source": [
    "## Exercițiu 9 – Exerciții practice\n",
    "- Generează 1 milion de numere aleatoare și calculează suma celor divizibile cu 7.\n",
    "- Normalizează o matrice 1000x1000.\n",
    "- Simulează o imagine RGB 1920x1080 și înmulțește fiecare pixel cu 1.5.\n",
    "- Creează o matrice 3D și calculează suma pe axa Z (`axis=2`)."
   ]
  },
  {
   "cell_type": "code",
   "execution_count": null,
   "metadata": {},
   "outputs": [],
   "source": []
  }
 ],
 "metadata": {
  "kernelspec": {
   "display_name": "Python 3",
   "language": "python",
   "name": "python3"
  },
  "language_info": {
   "name": "python",
   "version": "3.x"
  }
 },
 "nbformat": 4,
 "nbformat_minor": 2
}
