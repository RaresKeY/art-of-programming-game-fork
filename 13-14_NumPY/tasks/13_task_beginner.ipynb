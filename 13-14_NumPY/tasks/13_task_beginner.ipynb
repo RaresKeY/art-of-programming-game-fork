{
 "cells": [
  {
   "cell_type": "markdown",
   "metadata": {},
   "source": [
    "# Sesiunea 13 din modulul 13-14_NumPY – NumPy Începători\n",
    "_Notebook de exerciții (fără soluții) din seria 13-14_NumPY, gândită pentru consolidarea noțiunilor de bază._\n"
   ]
  },
  {
   "cell_type": "markdown",
   "metadata": {},
   "source": [
    "### Exercițiul 1 – Array 2D 5x5 cu valori random între 1 și 100\n",
    "În cadrul recapitulării din modulul `13-14_NumPY`, exersăm generarea de date sintetice. Creează un array bidimensional (5x5) folosind `NumPy`, cu valori întregi aleatorii între 1 și 100, ideal cu `np.random.seed()` pentru reproductibilitate. Afișează rezultatul.\n"
   ]
  },
  {
   "cell_type": "code",
   "execution_count": null,
   "id": "3a8ba3cd",
   "metadata": {},
   "outputs": [
    {
     "name": "stdout",
     "output_type": "stream",
     "text": [
      "None\n"
     ]
    }
   ],
   "source": []
  },
  {
   "cell_type": "markdown",
   "id": "22604355",
   "metadata": {},
   "source": [
    "### Exercițiul 2 – Media, maximul și minimul fiecărui rând\n",
    "Continuând analiza setului creat la exercițiul precedent din seria `13-14_NumPY`, calculează media, valoarea maximă și valoarea minimă pentru fiecare rând folosind operații vectorizate.\n"
   ]
  },
  {
   "cell_type": "code",
   "execution_count": null,
   "id": "f408e955",
   "metadata": {},
   "outputs": [],
   "source": []
  },
  {
   "cell_type": "markdown",
   "id": "c29483b2",
   "metadata": {},
   "source": [
    "### Exercițiul 3 – Funcție de normalizare a unui array\n",
    "În ton cu secțiunea de prelucrare numerică din modulul `13-14_NumPY`, scrie o funcție `normalize(arr)` care primește un array și îl readuce în intervalul [0, 1]. Afișează array-ul normalizat pentru a verifica rezultatul.\n"
   ]
  },
  {
   "cell_type": "code",
   "execution_count": null,
   "id": "33a5b9d9",
   "metadata": {},
   "outputs": [],
   "source": []
  },
  {
   "cell_type": "markdown",
   "id": "0154eb95",
   "metadata": {},
   "source": [
    "### Exercițiul 4 – Produs scalar între două array-uri\n",
    "Revenind la conceptele de algebra liniară discutate în `13-14_NumPY`, creează două array-uri 1D de aceeași lungime și calculează produsul lor scalar folosind `np.dot()`.\n"
   ]
  },
  {
   "cell_type": "code",
   "execution_count": null,
   "id": "d15e8c6e",
   "metadata": {},
   "outputs": [],
   "source": []
  },
  {
   "cell_type": "markdown",
   "id": "ddf45d02",
   "metadata": {},
   "source": [
    "### Exercițiul 5 – Verificare simetrie matrice pătratică\n",
    "Pentru a încheia tema despre matrici din modulul `13-14_NumPY`, scrie o funcție care verifică dacă o matrice pătratică este simetrică (egală cu transpusul ei) și testeaz-o pe un exemplu concret.\n"
   ]
  },
  {
   "cell_type": "code",
   "execution_count": null,
   "id": "a1578491",
   "metadata": {},
   "outputs": [],
   "source": []
  }
 ],
 "metadata": {
  "kernelspec": {
   "display_name": "Python 3",
   "language": "python",
   "name": "python3"
  },
  "language_info": {
   "name": "python",
   "version": ""
  }
 },
 "nbformat": 4,
 "nbformat_minor": 5
}
